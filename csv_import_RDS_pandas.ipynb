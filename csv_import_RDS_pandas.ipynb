{
  "nbformat": 4,
  "nbformat_minor": 0,
  "metadata": {
    "colab": {
      "provenance": [],
      "collapsed_sections": []
    },
    "kernelspec": {
      "name": "python3",
      "display_name": "Python 3"
    },
    "language_info": {
      "name": "python"
    }
  },
  "cells": [
    {
      "cell_type": "markdown",
      "source": [
        "## Importing a CSV file into a AWS RDS Postgres Database\n",
        "\n",
        "\n",
        "*   import the csv file into a pandas df\n",
        "*   clean the table name and remove all extra symbols, spaces, capital letters\n",
        "*   clean the column header and remove all extra symbols, spaces, capital letters\n",
        "*   write the create table SQL statement\n",
        "*   import the data into DB\n",
        "\n",
        "\n",
        "\n",
        "\n"
      ],
      "metadata": {
        "id": "zux_NyPNjhVL"
      }
    },
    {
      "cell_type": "code",
      "source": [
        "!pip install psycopg2-binary"
      ],
      "metadata": {
        "colab": {
          "base_uri": "https://localhost:8080/",
          "height": 208
        },
        "id": "WnC8NaCNlJrf",
        "outputId": "e0cf2e96-61a5-4231-ff63-161f444a6ad5"
      },
      "execution_count": null,
      "outputs": [
        {
          "output_type": "stream",
          "name": "stdout",
          "text": [
            "Looking in indexes: https://pypi.org/simple, https://us-python.pkg.dev/colab-wheels/public/simple/\n",
            "Collecting psycopg2-binary\n",
            "  Downloading psycopg2_binary-2.9.3-cp37-cp37m-manylinux_2_17_x86_64.manylinux2014_x86_64.whl (3.0 MB)\n",
            "\u001b[K     |████████████████████████████████| 3.0 MB 4.3 MB/s \n",
            "\u001b[?25hInstalling collected packages: psycopg2-binary\n",
            "Successfully installed psycopg2-binary-2.9.3\n"
          ]
        },
        {
          "output_type": "display_data",
          "data": {
            "application/vnd.colab-display-data+json": {
              "pip_warning": {
                "packages": [
                  "psycopg2"
                ]
              }
            }
          },
          "metadata": {}
        }
      ]
    },
    {
      "cell_type": "code",
      "execution_count": null,
      "metadata": {
        "id": "7t2JQ4jRhBDx"
      },
      "outputs": [],
      "source": [
        "#import libraries\n",
        "import os\n",
        "import numpy as np\n",
        "import pandas as pd\n",
        "import psycopg2"
      ]
    },
    {
      "cell_type": "markdown",
      "source": [],
      "metadata": {
        "id": "0UxnuRu12qeq"
      }
    },
    {
      "cell_type": "code",
      "source": [
        "!ls"
      ],
      "metadata": {
        "colab": {
          "base_uri": "https://localhost:8080/"
        },
        "id": "uFeayhzphDdp",
        "outputId": "185a07ca-9498-4662-c687-12b2886f2d53"
      },
      "execution_count": null,
      "outputs": [
        {
          "output_type": "stream",
          "name": "stdout",
          "text": [
            "'Customer Contracts$.csv'   sample_data\n"
          ]
        }
      ]
    },
    {
      "cell_type": "code",
      "source": [
        "df = pd.read_csv('Customer Contracts$.csv')\n",
        "df.head()"
      ],
      "metadata": {
        "colab": {
          "base_uri": "https://localhost:8080/",
          "height": 206
        },
        "id": "ug-3i6JTlm70",
        "outputId": "0ed44b27-52bd-4d09-f156-a0cd8eb597f7"
      },
      "execution_count": null,
      "outputs": [
        {
          "output_type": "execute_result",
          "data": {
            "text/plain": [
              "  customer_name  start_date    end_date  contract_amount_m invoice_sent paid\n",
              "0          Nike  01-02-2019  12-20-2020               2.98          Yes  Yes\n",
              "1        Reebox  06-20-2017         NaN               3.90           No   No\n",
              "2        Adidas  12-07-2015   6-20-2018               4.82          Yes  Yes\n",
              "3        Google  05-25-2014  03-20-2017               5.74          Yes   No\n",
              "4        Amazon  11-10-2012  12-20-2015               6.66           No  Yes"
            ],
            "text/html": [
              "\n",
              "  <div id=\"df-af3be18b-fc45-4225-8592-2cdf174e42b1\">\n",
              "    <div class=\"colab-df-container\">\n",
              "      <div>\n",
              "<style scoped>\n",
              "    .dataframe tbody tr th:only-of-type {\n",
              "        vertical-align: middle;\n",
              "    }\n",
              "\n",
              "    .dataframe tbody tr th {\n",
              "        vertical-align: top;\n",
              "    }\n",
              "\n",
              "    .dataframe thead th {\n",
              "        text-align: right;\n",
              "    }\n",
              "</style>\n",
              "<table border=\"1\" class=\"dataframe\">\n",
              "  <thead>\n",
              "    <tr style=\"text-align: right;\">\n",
              "      <th></th>\n",
              "      <th>customer_name</th>\n",
              "      <th>start_date</th>\n",
              "      <th>end_date</th>\n",
              "      <th>contract_amount_m</th>\n",
              "      <th>invoice_sent</th>\n",
              "      <th>paid</th>\n",
              "    </tr>\n",
              "  </thead>\n",
              "  <tbody>\n",
              "    <tr>\n",
              "      <th>0</th>\n",
              "      <td>Nike</td>\n",
              "      <td>01-02-2019</td>\n",
              "      <td>12-20-2020</td>\n",
              "      <td>2.98</td>\n",
              "      <td>Yes</td>\n",
              "      <td>Yes</td>\n",
              "    </tr>\n",
              "    <tr>\n",
              "      <th>1</th>\n",
              "      <td>Reebox</td>\n",
              "      <td>06-20-2017</td>\n",
              "      <td>NaN</td>\n",
              "      <td>3.90</td>\n",
              "      <td>No</td>\n",
              "      <td>No</td>\n",
              "    </tr>\n",
              "    <tr>\n",
              "      <th>2</th>\n",
              "      <td>Adidas</td>\n",
              "      <td>12-07-2015</td>\n",
              "      <td>6-20-2018</td>\n",
              "      <td>4.82</td>\n",
              "      <td>Yes</td>\n",
              "      <td>Yes</td>\n",
              "    </tr>\n",
              "    <tr>\n",
              "      <th>3</th>\n",
              "      <td>Google</td>\n",
              "      <td>05-25-2014</td>\n",
              "      <td>03-20-2017</td>\n",
              "      <td>5.74</td>\n",
              "      <td>Yes</td>\n",
              "      <td>No</td>\n",
              "    </tr>\n",
              "    <tr>\n",
              "      <th>4</th>\n",
              "      <td>Amazon</td>\n",
              "      <td>11-10-2012</td>\n",
              "      <td>12-20-2015</td>\n",
              "      <td>6.66</td>\n",
              "      <td>No</td>\n",
              "      <td>Yes</td>\n",
              "    </tr>\n",
              "  </tbody>\n",
              "</table>\n",
              "</div>\n",
              "      <button class=\"colab-df-convert\" onclick=\"convertToInteractive('df-af3be18b-fc45-4225-8592-2cdf174e42b1')\"\n",
              "              title=\"Convert this dataframe to an interactive table.\"\n",
              "              style=\"display:none;\">\n",
              "        \n",
              "  <svg xmlns=\"http://www.w3.org/2000/svg\" height=\"24px\"viewBox=\"0 0 24 24\"\n",
              "       width=\"24px\">\n",
              "    <path d=\"M0 0h24v24H0V0z\" fill=\"none\"/>\n",
              "    <path d=\"M18.56 5.44l.94 2.06.94-2.06 2.06-.94-2.06-.94-.94-2.06-.94 2.06-2.06.94zm-11 1L8.5 8.5l.94-2.06 2.06-.94-2.06-.94L8.5 2.5l-.94 2.06-2.06.94zm10 10l.94 2.06.94-2.06 2.06-.94-2.06-.94-.94-2.06-.94 2.06-2.06.94z\"/><path d=\"M17.41 7.96l-1.37-1.37c-.4-.4-.92-.59-1.43-.59-.52 0-1.04.2-1.43.59L10.3 9.45l-7.72 7.72c-.78.78-.78 2.05 0 2.83L4 21.41c.39.39.9.59 1.41.59.51 0 1.02-.2 1.41-.59l7.78-7.78 2.81-2.81c.8-.78.8-2.07 0-2.86zM5.41 20L4 18.59l7.72-7.72 1.47 1.35L5.41 20z\"/>\n",
              "  </svg>\n",
              "      </button>\n",
              "      \n",
              "  <style>\n",
              "    .colab-df-container {\n",
              "      display:flex;\n",
              "      flex-wrap:wrap;\n",
              "      gap: 12px;\n",
              "    }\n",
              "\n",
              "    .colab-df-convert {\n",
              "      background-color: #E8F0FE;\n",
              "      border: none;\n",
              "      border-radius: 50%;\n",
              "      cursor: pointer;\n",
              "      display: none;\n",
              "      fill: #1967D2;\n",
              "      height: 32px;\n",
              "      padding: 0 0 0 0;\n",
              "      width: 32px;\n",
              "    }\n",
              "\n",
              "    .colab-df-convert:hover {\n",
              "      background-color: #E2EBFA;\n",
              "      box-shadow: 0px 1px 2px rgba(60, 64, 67, 0.3), 0px 1px 3px 1px rgba(60, 64, 67, 0.15);\n",
              "      fill: #174EA6;\n",
              "    }\n",
              "\n",
              "    [theme=dark] .colab-df-convert {\n",
              "      background-color: #3B4455;\n",
              "      fill: #D2E3FC;\n",
              "    }\n",
              "\n",
              "    [theme=dark] .colab-df-convert:hover {\n",
              "      background-color: #434B5C;\n",
              "      box-shadow: 0px 1px 3px 1px rgba(0, 0, 0, 0.15);\n",
              "      filter: drop-shadow(0px 1px 2px rgba(0, 0, 0, 0.3));\n",
              "      fill: #FFFFFF;\n",
              "    }\n",
              "  </style>\n",
              "\n",
              "      <script>\n",
              "        const buttonEl =\n",
              "          document.querySelector('#df-af3be18b-fc45-4225-8592-2cdf174e42b1 button.colab-df-convert');\n",
              "        buttonEl.style.display =\n",
              "          google.colab.kernel.accessAllowed ? 'block' : 'none';\n",
              "\n",
              "        async function convertToInteractive(key) {\n",
              "          const element = document.querySelector('#df-af3be18b-fc45-4225-8592-2cdf174e42b1');\n",
              "          const dataTable =\n",
              "            await google.colab.kernel.invokeFunction('convertToInteractive',\n",
              "                                                     [key], {});\n",
              "          if (!dataTable) return;\n",
              "\n",
              "          const docLinkHtml = 'Like what you see? Visit the ' +\n",
              "            '<a target=\"_blank\" href=https://colab.research.google.com/notebooks/data_table.ipynb>data table notebook</a>'\n",
              "            + ' to learn more about interactive tables.';\n",
              "          element.innerHTML = '';\n",
              "          dataTable['output_type'] = 'display_data';\n",
              "          await google.colab.output.renderOutput(dataTable, element);\n",
              "          const docLink = document.createElement('div');\n",
              "          docLink.innerHTML = docLinkHtml;\n",
              "          element.appendChild(docLink);\n",
              "        }\n",
              "      </script>\n",
              "    </div>\n",
              "  </div>\n",
              "  "
            ]
          },
          "metadata": {},
          "execution_count": 49
        }
      ]
    },
    {
      "cell_type": "code",
      "source": [
        "# clean table name\n",
        "# all lower case letters\n",
        "# remove all white spaces and $\n",
        "# replace -, /, \\\\, $ with _\n",
        "\n",
        "file = 'Customer Contracts$'\n",
        "clean_tbl_name = file.lower().replace(\" \",\"_\").replace(\"?\",\"\")\\\n",
        "                    .replace(\"-\",\"_\").replace(r\"/\",\"_\").replace(\"\\\\\",\"_\").replace(\"%\",\"_\")\\\n",
        "                    .replace(\"(\",\"\").replace(r\")\",\"\").replace(\"$\",\"\")\n",
        "\n",
        "clean_tbl_name"
      ],
      "metadata": {
        "colab": {
          "base_uri": "https://localhost:8080/",
          "height": 35
        },
        "id": "A7vEwmgSm_uK",
        "outputId": "f26485ff-86cf-4e82-8b66-4ea2a323b2dc"
      },
      "execution_count": null,
      "outputs": [
        {
          "output_type": "execute_result",
          "data": {
            "text/plain": [
              "'customer_contracts'"
            ],
            "application/vnd.google.colaboratory.intrinsic+json": {
              "type": "string"
            }
          },
          "metadata": {},
          "execution_count": 50
        }
      ]
    },
    {
      "cell_type": "code",
      "source": [
        "# clean header name\n",
        "# all lower case letters\n",
        "# remove all white spaces and $\n",
        "# replace -, /, \\\\, $ with _\n",
        "\n",
        "# Using List Comprehension\n",
        "df.columns = [i.lower().replace(\" \",\"_\").replace(\"?\",\"\")\\\n",
        "                    .replace(\"-\",\"_\").replace(r\"/\",\"_\").replace(\"\\\\\",\"_\").replace(\"%\",\"_\")\\\n",
        "                    .replace(\"(\",\"\").replace(r\")\",\"\").replace(\"$\",\"\") for i in df.columns]\n",
        "\n",
        "df.columns"
      ],
      "metadata": {
        "colab": {
          "base_uri": "https://localhost:8080/"
        },
        "id": "2VsFxjimqW8z",
        "outputId": "7247d547-1337-4094-ab4d-7bb17d62ac22"
      },
      "execution_count": null,
      "outputs": [
        {
          "output_type": "execute_result",
          "data": {
            "text/plain": [
              "Index(['customer_name', 'start_date', 'end_date', 'contract_amount_m',\n",
              "       'invoice_sent', 'paid'],\n",
              "      dtype='object')"
            ]
          },
          "metadata": {},
          "execution_count": 51
        }
      ]
    },
    {
      "cell_type": "code",
      "source": [
        "# SQL datatypes\n",
        "# create table customer_contracts\n",
        "# (\n",
        "#     customer_name   varchar,\n",
        "#     start_date      varchar,\n",
        "#     end_date        varchar,\n",
        "#     contract_amount_m float,\n",
        "#     invoice_sent   varchar,\n",
        "#     paid            varchar\n",
        "#  );"
      ],
      "metadata": {
        "id": "UXG3Ycd2qt_D"
      },
      "execution_count": null,
      "outputs": []
    },
    {
      "cell_type": "markdown",
      "source": [
        "## SQL datatypes\n",
        "\n",
        "create table customer_contracts\n",
        "( customer_name   varchar, start_date  varchar,end_date    varchar,contract_amount_m float,invoice_sent   varchar,paid  varchar)"
      ],
      "metadata": {
        "id": "qqWCzwDQ88yh"
      }
    },
    {
      "cell_type": "code",
      "source": [
        "df.dtypes"
      ],
      "metadata": {
        "colab": {
          "base_uri": "https://localhost:8080/"
        },
        "id": "0YqVCknQ8rFh",
        "outputId": "541552fb-b53d-4f75-932c-7fae632cc4f6"
      },
      "execution_count": null,
      "outputs": [
        {
          "output_type": "execute_result",
          "data": {
            "text/plain": [
              "customer_name         object\n",
              "start_date            object\n",
              "end_date              object\n",
              "contract_amount_m    float64\n",
              "invoice_sent          object\n",
              "paid                  object\n",
              "dtype: object"
            ]
          },
          "metadata": {},
          "execution_count": 53
        }
      ]
    },
    {
      "cell_type": "code",
      "source": [
        "# Create Pandas Datatype to replace SQL datatype\n",
        "# use dic{}\n",
        "replacements = {\n",
        "    'object' : 'varchar',\n",
        "    'float64' : 'float',\n",
        "    'datetime64': 'timestamp',\n",
        "    'timedelta64[ns]': 'varchar'\n",
        "}"
      ],
      "metadata": {
        "id": "BDvEy8bn8i1l"
      },
      "execution_count": null,
      "outputs": []
    },
    {
      "cell_type": "code",
      "source": [
        "col_str =  ',  '.join(\"{}  {}\".format(n, d) for (n, d) in zip(df.columns, df.dtypes.replace(replacements)))\n",
        "col_str"
      ],
      "metadata": {
        "colab": {
          "base_uri": "https://localhost:8080/",
          "height": 35
        },
        "id": "4XcmR3yPCzrA",
        "outputId": "ef98cf86-8f9e-4312-e0ab-1da81ba65065"
      },
      "execution_count": null,
      "outputs": [
        {
          "output_type": "execute_result",
          "data": {
            "text/plain": [
              "'customer_name  varchar,  start_date  varchar,  end_date  varchar,  contract_amount_m  float,  invoice_sent  varchar,  paid  varchar'"
            ],
            "application/vnd.google.colaboratory.intrinsic+json": {
              "type": "string"
            }
          },
          "metadata": {},
          "execution_count": 55
        }
      ]
    },
    {
      "cell_type": "code",
      "source": [
        "conn_string = \"host = rds-postgres.xxxxxxxx.us-east-1.rds.amazonaws.com \\\n",
        "                      db_name = 'rds-postgres' \\\n",
        "                      user = 'postgres' \\\n",
        "                      password = 'xxxxxxxx' \"\n",
        "conn = psycopg2.connect(conn_string)\n",
        "cursor = conn.cursor()\n",
        "print(\"opened the database successfully\")"
      ],
      "metadata": {
        "id": "WO4v0yxoFd_J"
      },
      "execution_count": null,
      "outputs": []
    }
  ]
}